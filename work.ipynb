{
 "cells": [
  {
   "cell_type": "markdown",
   "metadata": {},
   "source": [
    "### dacon 7 지원을 위한 준비"
   ]
  },
  {
   "cell_type": "code",
   "execution_count": null,
   "metadata": {},
   "outputs": [],
   "source": [
    "# 2019.4.26 최초작업"
   ]
  },
  {
   "cell_type": "code",
   "execution_count": 101,
   "metadata": {},
   "outputs": [],
   "source": [
    "import pandas as pd\n",
    "# 2011년부터 2018년까지 KBO에서 활약한 외국인 투수들의 역대 KBO 정규시즌 성적\n",
    "ob_k = pd.read_csv('kbo_yearly_foreigners_2011_2018.csv')\n",
    "# 2011년부터 2018년까지 KBO에서 활약한 외국인 투수들의 KBO 입성 전, 메이저리그에서의 역대 정규시즌 성적\n",
    "ob_m = pd.read_csv('fangraphs_foreigners_2011_2018.csv') \n",
    "# 2011년부터 2018년까지 KBO에서 활약한 외국인 투수들의 KBO입성 전, 메이저리그에서의 스탯캐스트 데이터\n",
    "ob_s = pd.read_csv('baseball_savant_foreigners_2011_2018.csv') \n",
    "# 2019년 신규 외국인 투수들의 메이저리그에서의 역대 정규시즌 성적\n",
    "nb_m = pd.read_csv('fangraphs_foreigners_2019.csv') \n",
    "# 2019년 신규 외국인 투수들의 메이저리그에서의 스탯캐스트 데이터\n",
    "nb_s = pd.read_csv('baseball_savant_foreigners_2019.csv') "
   ]
  },
  {
   "cell_type": "code",
   "execution_count": 102,
   "metadata": {},
   "outputs": [
    {
     "data": {
      "text/html": [
       "<div>\n",
       "<style scoped>\n",
       "    .dataframe tbody tr th:only-of-type {\n",
       "        vertical-align: middle;\n",
       "    }\n",
       "\n",
       "    .dataframe tbody tr th {\n",
       "        vertical-align: top;\n",
       "    }\n",
       "\n",
       "    .dataframe thead th {\n",
       "        text-align: right;\n",
       "    }\n",
       "</style>\n",
       "<table border=\"1\" class=\"dataframe\">\n",
       "  <thead>\n",
       "    <tr style=\"text-align: right;\">\n",
       "      <th></th>\n",
       "      <th>pitcher_name</th>\n",
       "      <th>year</th>\n",
       "      <th>team</th>\n",
       "      <th>ERA</th>\n",
       "      <th>TBF</th>\n",
       "      <th>H</th>\n",
       "      <th>HR</th>\n",
       "      <th>BB</th>\n",
       "      <th>HBP</th>\n",
       "      <th>SO</th>\n",
       "      <th>year_born</th>\n",
       "    </tr>\n",
       "  </thead>\n",
       "  <tbody>\n",
       "    <tr>\n",
       "      <th>0</th>\n",
       "      <td>니퍼트</td>\n",
       "      <td>2011</td>\n",
       "      <td>두산</td>\n",
       "      <td>2.55</td>\n",
       "      <td>763</td>\n",
       "      <td>150</td>\n",
       "      <td>8</td>\n",
       "      <td>64</td>\n",
       "      <td>10</td>\n",
       "      <td>150</td>\n",
       "      <td>NaN</td>\n",
       "    </tr>\n",
       "    <tr>\n",
       "      <th>1</th>\n",
       "      <td>니퍼트</td>\n",
       "      <td>2012</td>\n",
       "      <td>두산</td>\n",
       "      <td>3.20</td>\n",
       "      <td>785</td>\n",
       "      <td>156</td>\n",
       "      <td>15</td>\n",
       "      <td>68</td>\n",
       "      <td>8</td>\n",
       "      <td>126</td>\n",
       "      <td>NaN</td>\n",
       "    </tr>\n",
       "    <tr>\n",
       "      <th>2</th>\n",
       "      <td>니퍼트</td>\n",
       "      <td>2013</td>\n",
       "      <td>두산</td>\n",
       "      <td>3.58</td>\n",
       "      <td>482</td>\n",
       "      <td>108</td>\n",
       "      <td>7</td>\n",
       "      <td>34</td>\n",
       "      <td>4</td>\n",
       "      <td>104</td>\n",
       "      <td>NaN</td>\n",
       "    </tr>\n",
       "    <tr>\n",
       "      <th>3</th>\n",
       "      <td>니퍼트</td>\n",
       "      <td>2014</td>\n",
       "      <td>두산</td>\n",
       "      <td>3.81</td>\n",
       "      <td>760</td>\n",
       "      <td>186</td>\n",
       "      <td>17</td>\n",
       "      <td>48</td>\n",
       "      <td>6</td>\n",
       "      <td>158</td>\n",
       "      <td>NaN</td>\n",
       "    </tr>\n",
       "    <tr>\n",
       "      <th>4</th>\n",
       "      <td>니퍼트</td>\n",
       "      <td>2015</td>\n",
       "      <td>두산</td>\n",
       "      <td>5.10</td>\n",
       "      <td>404</td>\n",
       "      <td>104</td>\n",
       "      <td>4</td>\n",
       "      <td>33</td>\n",
       "      <td>4</td>\n",
       "      <td>76</td>\n",
       "      <td>NaN</td>\n",
       "    </tr>\n",
       "  </tbody>\n",
       "</table>\n",
       "</div>"
      ],
      "text/plain": [
       "  pitcher_name  year team   ERA  TBF    H  HR  BB  HBP   SO year_born\n",
       "0          니퍼트  2011   두산  2.55  763  150   8  64   10  150       NaN\n",
       "1          니퍼트  2012   두산  3.20  785  156  15  68    8  126       NaN\n",
       "2          니퍼트  2013   두산  3.58  482  108   7  34    4  104       NaN\n",
       "3          니퍼트  2014   두산  3.81  760  186  17  48    6  158       NaN\n",
       "4          니퍼트  2015   두산  5.10  404  104   4  33    4   76       NaN"
      ]
     },
     "execution_count": 102,
     "metadata": {},
     "output_type": "execute_result"
    }
   ],
   "source": [
    "ob_k.head()"
   ]
  },
  {
   "cell_type": "code",
   "execution_count": 104,
   "metadata": {},
   "outputs": [
    {
     "data": {
      "text/html": [
       "<div>\n",
       "<style scoped>\n",
       "    .dataframe tbody tr th:only-of-type {\n",
       "        vertical-align: middle;\n",
       "    }\n",
       "\n",
       "    .dataframe tbody tr th {\n",
       "        vertical-align: top;\n",
       "    }\n",
       "\n",
       "    .dataframe thead th {\n",
       "        text-align: right;\n",
       "    }\n",
       "</style>\n",
       "<table border=\"1\" class=\"dataframe\">\n",
       "  <thead>\n",
       "    <tr style=\"text-align: right;\">\n",
       "      <th></th>\n",
       "      <th>pitcher_name</th>\n",
       "      <th>year</th>\n",
       "      <th>team</th>\n",
       "      <th>ERA</th>\n",
       "      <th>TBF</th>\n",
       "      <th>H</th>\n",
       "      <th>HR</th>\n",
       "      <th>BB</th>\n",
       "      <th>HBP</th>\n",
       "      <th>SO</th>\n",
       "      <th>year_born</th>\n",
       "    </tr>\n",
       "  </thead>\n",
       "  <tbody>\n",
       "    <tr>\n",
       "      <th>63</th>\n",
       "      <td>오간도</td>\n",
       "      <td>2017</td>\n",
       "      <td>한화</td>\n",
       "      <td>3.93</td>\n",
       "      <td>475</td>\n",
       "      <td>115</td>\n",
       "      <td>8</td>\n",
       "      <td>30</td>\n",
       "      <td>11</td>\n",
       "      <td>74</td>\n",
       "      <td>NaN</td>\n",
       "    </tr>\n",
       "  </tbody>\n",
       "</table>\n",
       "</div>"
      ],
      "text/plain": [
       "   pitcher_name  year team   ERA  TBF    H  HR  BB  HBP  SO year_born\n",
       "63          오간도  2017   한화  3.93  475  115   8  30   11  74       NaN"
      ]
     },
     "execution_count": 104,
     "metadata": {},
     "output_type": "execute_result"
    }
   ],
   "source": [
    "ob_k[ (ob_k.pitcher_name == '오간도')]"
   ]
  },
  {
   "cell_type": "code",
   "execution_count": 105,
   "metadata": {},
   "outputs": [
    {
     "data": {
      "text/html": [
       "<div>\n",
       "<style scoped>\n",
       "    .dataframe tbody tr th:only-of-type {\n",
       "        vertical-align: middle;\n",
       "    }\n",
       "\n",
       "    .dataframe tbody tr th {\n",
       "        vertical-align: top;\n",
       "    }\n",
       "\n",
       "    .dataframe thead th {\n",
       "        text-align: right;\n",
       "    }\n",
       "</style>\n",
       "<table border=\"1\" class=\"dataframe\">\n",
       "  <thead>\n",
       "    <tr style=\"text-align: right;\">\n",
       "      <th></th>\n",
       "      <th>pitcher_name</th>\n",
       "      <th>year</th>\n",
       "      <th>ERA</th>\n",
       "      <th>WAR</th>\n",
       "      <th>TBF</th>\n",
       "      <th>H</th>\n",
       "      <th>HR</th>\n",
       "      <th>BB</th>\n",
       "      <th>HBP</th>\n",
       "      <th>SO</th>\n",
       "      <th>WHIP</th>\n",
       "      <th>BABIP</th>\n",
       "      <th>FIP</th>\n",
       "      <th>LD%</th>\n",
       "      <th>GB%</th>\n",
       "      <th>FB%</th>\n",
       "      <th>IFFB%</th>\n",
       "      <th>SwStr%</th>\n",
       "      <th>Swing%</th>\n",
       "    </tr>\n",
       "  </thead>\n",
       "  <tbody>\n",
       "    <tr>\n",
       "      <th>0</th>\n",
       "      <td>오간도</td>\n",
       "      <td>2011.0</td>\n",
       "      <td>3.51</td>\n",
       "      <td>3.3</td>\n",
       "      <td>693.0</td>\n",
       "      <td>149.0</td>\n",
       "      <td>16.0</td>\n",
       "      <td>43.0</td>\n",
       "      <td>7.0</td>\n",
       "      <td>126.0</td>\n",
       "      <td>1.14</td>\n",
       "      <td>0.265</td>\n",
       "      <td>3.65</td>\n",
       "      <td>0.237</td>\n",
       "      <td>0.364</td>\n",
       "      <td>0.674</td>\n",
       "      <td>0.147</td>\n",
       "      <td>0.090</td>\n",
       "      <td>0.475</td>\n",
       "    </tr>\n",
       "    <tr>\n",
       "      <th>1</th>\n",
       "      <td>험버</td>\n",
       "      <td>2011.0</td>\n",
       "      <td>3.75</td>\n",
       "      <td>3.2</td>\n",
       "      <td>676.0</td>\n",
       "      <td>151.0</td>\n",
       "      <td>14.0</td>\n",
       "      <td>41.0</td>\n",
       "      <td>6.0</td>\n",
       "      <td>116.0</td>\n",
       "      <td>1.18</td>\n",
       "      <td>0.275</td>\n",
       "      <td>3.58</td>\n",
       "      <td>0.168</td>\n",
       "      <td>0.471</td>\n",
       "      <td>0.458</td>\n",
       "      <td>0.094</td>\n",
       "      <td>0.092</td>\n",
       "      <td>0.463</td>\n",
       "    </tr>\n",
       "    <tr>\n",
       "      <th>2</th>\n",
       "      <td>루카스</td>\n",
       "      <td>2012.0</td>\n",
       "      <td>3.76</td>\n",
       "      <td>2.8</td>\n",
       "      <td>827.0</td>\n",
       "      <td>185.0</td>\n",
       "      <td>13.0</td>\n",
       "      <td>78.0</td>\n",
       "      <td>1.0</td>\n",
       "      <td>140.0</td>\n",
       "      <td>1.36</td>\n",
       "      <td>0.289</td>\n",
       "      <td>3.75</td>\n",
       "      <td>0.203</td>\n",
       "      <td>0.572</td>\n",
       "      <td>0.707</td>\n",
       "      <td>0.082</td>\n",
       "      <td>0.062</td>\n",
       "      <td>0.424</td>\n",
       "    </tr>\n",
       "    <tr>\n",
       "      <th>3</th>\n",
       "      <td>다이아몬드</td>\n",
       "      <td>2012.0</td>\n",
       "      <td>3.54</td>\n",
       "      <td>2.2</td>\n",
       "      <td>714.0</td>\n",
       "      <td>184.0</td>\n",
       "      <td>17.0</td>\n",
       "      <td>31.0</td>\n",
       "      <td>4.0</td>\n",
       "      <td>90.0</td>\n",
       "      <td>1.24</td>\n",
       "      <td>0.292</td>\n",
       "      <td>3.94</td>\n",
       "      <td>0.210</td>\n",
       "      <td>0.534</td>\n",
       "      <td>0.597</td>\n",
       "      <td>0.040</td>\n",
       "      <td>0.068</td>\n",
       "      <td>0.467</td>\n",
       "    </tr>\n",
       "    <tr>\n",
       "      <th>4</th>\n",
       "      <td>듀브론트</td>\n",
       "      <td>2013.0</td>\n",
       "      <td>4.32</td>\n",
       "      <td>2.2</td>\n",
       "      <td>705.0</td>\n",
       "      <td>161.0</td>\n",
       "      <td>13.0</td>\n",
       "      <td>71.0</td>\n",
       "      <td>5.0</td>\n",
       "      <td>139.0</td>\n",
       "      <td>1.43</td>\n",
       "      <td>0.310</td>\n",
       "      <td>3.78</td>\n",
       "      <td>0.199</td>\n",
       "      <td>0.456</td>\n",
       "      <td>0.633</td>\n",
       "      <td>0.127</td>\n",
       "      <td>0.077</td>\n",
       "      <td>0.434</td>\n",
       "    </tr>\n",
       "  </tbody>\n",
       "</table>\n",
       "</div>"
      ],
      "text/plain": [
       "  pitcher_name    year   ERA  WAR    TBF      H    HR    BB  HBP     SO  WHIP  \\\n",
       "0          오간도  2011.0  3.51  3.3  693.0  149.0  16.0  43.0  7.0  126.0  1.14   \n",
       "1           험버  2011.0  3.75  3.2  676.0  151.0  14.0  41.0  6.0  116.0  1.18   \n",
       "2          루카스  2012.0  3.76  2.8  827.0  185.0  13.0  78.0  1.0  140.0  1.36   \n",
       "3        다이아몬드  2012.0  3.54  2.2  714.0  184.0  17.0  31.0  4.0   90.0  1.24   \n",
       "4         듀브론트  2013.0  4.32  2.2  705.0  161.0  13.0  71.0  5.0  139.0  1.43   \n",
       "\n",
       "   BABIP   FIP    LD%    GB%    FB%  IFFB%  SwStr%  Swing%  \n",
       "0  0.265  3.65  0.237  0.364  0.674  0.147   0.090   0.475  \n",
       "1  0.275  3.58  0.168  0.471  0.458  0.094   0.092   0.463  \n",
       "2  0.289  3.75  0.203  0.572  0.707  0.082   0.062   0.424  \n",
       "3  0.292  3.94  0.210  0.534  0.597  0.040   0.068   0.467  \n",
       "4  0.310  3.78  0.199  0.456  0.633  0.127   0.077   0.434  "
      ]
     },
     "execution_count": 105,
     "metadata": {},
     "output_type": "execute_result"
    }
   ],
   "source": [
    "ob_m.head()"
   ]
  },
  {
   "cell_type": "code",
   "execution_count": 106,
   "metadata": {},
   "outputs": [
    {
     "data": {
      "text/html": [
       "<div>\n",
       "<style scoped>\n",
       "    .dataframe tbody tr th:only-of-type {\n",
       "        vertical-align: middle;\n",
       "    }\n",
       "\n",
       "    .dataframe tbody tr th {\n",
       "        vertical-align: top;\n",
       "    }\n",
       "\n",
       "    .dataframe thead th {\n",
       "        text-align: right;\n",
       "    }\n",
       "</style>\n",
       "<table border=\"1\" class=\"dataframe\">\n",
       "  <thead>\n",
       "    <tr style=\"text-align: right;\">\n",
       "      <th></th>\n",
       "      <th>game_date</th>\n",
       "      <th>release_speed</th>\n",
       "      <th>batter</th>\n",
       "      <th>pitcher</th>\n",
       "      <th>events</th>\n",
       "      <th>description</th>\n",
       "      <th>zone</th>\n",
       "      <th>stand</th>\n",
       "      <th>p_throws</th>\n",
       "      <th>bb_type</th>\n",
       "      <th>...</th>\n",
       "      <th>plate_x</th>\n",
       "      <th>plate_z</th>\n",
       "      <th>ax</th>\n",
       "      <th>ay</th>\n",
       "      <th>az</th>\n",
       "      <th>launch_speed</th>\n",
       "      <th>launch_angle</th>\n",
       "      <th>release_spin_rate</th>\n",
       "      <th>pitch_name</th>\n",
       "      <th>pitcher_name</th>\n",
       "    </tr>\n",
       "  </thead>\n",
       "  <tbody>\n",
       "    <tr>\n",
       "      <th>0</th>\n",
       "      <td>2010-10-09</td>\n",
       "      <td>93.0</td>\n",
       "      <td>425834.0</td>\n",
       "      <td>430962</td>\n",
       "      <td>field_out</td>\n",
       "      <td>hit_into_play</td>\n",
       "      <td>4.0</td>\n",
       "      <td>R</td>\n",
       "      <td>R</td>\n",
       "      <td>popup</td>\n",
       "      <td>...</td>\n",
       "      <td>-0.626</td>\n",
       "      <td>2.771</td>\n",
       "      <td>-6.404</td>\n",
       "      <td>26.077</td>\n",
       "      <td>-9.694</td>\n",
       "      <td>NaN</td>\n",
       "      <td>NaN</td>\n",
       "      <td>NaN</td>\n",
       "      <td>4-Seam Fastball</td>\n",
       "      <td>니퍼트</td>\n",
       "    </tr>\n",
       "    <tr>\n",
       "      <th>1</th>\n",
       "      <td>2010-10-09</td>\n",
       "      <td>95.2</td>\n",
       "      <td>150289.0</td>\n",
       "      <td>430962</td>\n",
       "      <td>home_run</td>\n",
       "      <td>hit_into_play_score</td>\n",
       "      <td>5.0</td>\n",
       "      <td>L</td>\n",
       "      <td>R</td>\n",
       "      <td>fly_ball</td>\n",
       "      <td>...</td>\n",
       "      <td>-0.112</td>\n",
       "      <td>2.401</td>\n",
       "      <td>-10.168</td>\n",
       "      <td>28.786</td>\n",
       "      <td>-8.895</td>\n",
       "      <td>NaN</td>\n",
       "      <td>NaN</td>\n",
       "      <td>NaN</td>\n",
       "      <td>4-Seam Fastball</td>\n",
       "      <td>니퍼트</td>\n",
       "    </tr>\n",
       "    <tr>\n",
       "      <th>2</th>\n",
       "      <td>2010-10-09</td>\n",
       "      <td>94.3</td>\n",
       "      <td>150289.0</td>\n",
       "      <td>430962</td>\n",
       "      <td>NaN</td>\n",
       "      <td>foul</td>\n",
       "      <td>2.0</td>\n",
       "      <td>L</td>\n",
       "      <td>R</td>\n",
       "      <td>NaN</td>\n",
       "      <td>...</td>\n",
       "      <td>0.272</td>\n",
       "      <td>3.052</td>\n",
       "      <td>-5.605</td>\n",
       "      <td>26.657</td>\n",
       "      <td>-7.794</td>\n",
       "      <td>NaN</td>\n",
       "      <td>NaN</td>\n",
       "      <td>NaN</td>\n",
       "      <td>4-Seam Fastball</td>\n",
       "      <td>니퍼트</td>\n",
       "    </tr>\n",
       "    <tr>\n",
       "      <th>3</th>\n",
       "      <td>2010-10-09</td>\n",
       "      <td>94.0</td>\n",
       "      <td>150289.0</td>\n",
       "      <td>430962</td>\n",
       "      <td>NaN</td>\n",
       "      <td>blocked_ball</td>\n",
       "      <td>13.0</td>\n",
       "      <td>L</td>\n",
       "      <td>R</td>\n",
       "      <td>NaN</td>\n",
       "      <td>...</td>\n",
       "      <td>-1.193</td>\n",
       "      <td>0.632</td>\n",
       "      <td>-9.099</td>\n",
       "      <td>30.273</td>\n",
       "      <td>-6.371</td>\n",
       "      <td>NaN</td>\n",
       "      <td>NaN</td>\n",
       "      <td>NaN</td>\n",
       "      <td>4-Seam Fastball</td>\n",
       "      <td>니퍼트</td>\n",
       "    </tr>\n",
       "    <tr>\n",
       "      <th>4</th>\n",
       "      <td>2010-10-09</td>\n",
       "      <td>92.8</td>\n",
       "      <td>150289.0</td>\n",
       "      <td>430962</td>\n",
       "      <td>NaN</td>\n",
       "      <td>ball</td>\n",
       "      <td>14.0</td>\n",
       "      <td>L</td>\n",
       "      <td>R</td>\n",
       "      <td>NaN</td>\n",
       "      <td>...</td>\n",
       "      <td>0.370</td>\n",
       "      <td>1.383</td>\n",
       "      <td>-5.846</td>\n",
       "      <td>27.290</td>\n",
       "      <td>-11.262</td>\n",
       "      <td>NaN</td>\n",
       "      <td>NaN</td>\n",
       "      <td>NaN</td>\n",
       "      <td>4-Seam Fastball</td>\n",
       "      <td>니퍼트</td>\n",
       "    </tr>\n",
       "  </tbody>\n",
       "</table>\n",
       "<p>5 rows × 24 columns</p>\n",
       "</div>"
      ],
      "text/plain": [
       "    game_date  release_speed    batter  pitcher     events  \\\n",
       "0  2010-10-09           93.0  425834.0   430962  field_out   \n",
       "1  2010-10-09           95.2  150289.0   430962   home_run   \n",
       "2  2010-10-09           94.3  150289.0   430962        NaN   \n",
       "3  2010-10-09           94.0  150289.0   430962        NaN   \n",
       "4  2010-10-09           92.8  150289.0   430962        NaN   \n",
       "\n",
       "           description  zone stand p_throws   bb_type      ...       plate_x  \\\n",
       "0        hit_into_play   4.0     R        R     popup      ...        -0.626   \n",
       "1  hit_into_play_score   5.0     L        R  fly_ball      ...        -0.112   \n",
       "2                 foul   2.0     L        R       NaN      ...         0.272   \n",
       "3         blocked_ball  13.0     L        R       NaN      ...        -1.193   \n",
       "4                 ball  14.0     L        R       NaN      ...         0.370   \n",
       "\n",
       "   plate_z      ax      ay      az  launch_speed  launch_angle  \\\n",
       "0    2.771  -6.404  26.077  -9.694           NaN           NaN   \n",
       "1    2.401 -10.168  28.786  -8.895           NaN           NaN   \n",
       "2    3.052  -5.605  26.657  -7.794           NaN           NaN   \n",
       "3    0.632  -9.099  30.273  -6.371           NaN           NaN   \n",
       "4    1.383  -5.846  27.290 -11.262           NaN           NaN   \n",
       "\n",
       "   release_spin_rate       pitch_name  pitcher_name  \n",
       "0                NaN  4-Seam Fastball           니퍼트  \n",
       "1                NaN  4-Seam Fastball           니퍼트  \n",
       "2                NaN  4-Seam Fastball           니퍼트  \n",
       "3                NaN  4-Seam Fastball           니퍼트  \n",
       "4                NaN  4-Seam Fastball           니퍼트  \n",
       "\n",
       "[5 rows x 24 columns]"
      ]
     },
     "execution_count": 106,
     "metadata": {},
     "output_type": "execute_result"
    }
   ],
   "source": [
    "ob_s.head()"
   ]
  },
  {
   "cell_type": "code",
   "execution_count": 107,
   "metadata": {},
   "outputs": [
    {
     "data": {
      "text/html": [
       "<div>\n",
       "<style scoped>\n",
       "    .dataframe tbody tr th:only-of-type {\n",
       "        vertical-align: middle;\n",
       "    }\n",
       "\n",
       "    .dataframe tbody tr th {\n",
       "        vertical-align: top;\n",
       "    }\n",
       "\n",
       "    .dataframe thead th {\n",
       "        text-align: right;\n",
       "    }\n",
       "</style>\n",
       "<table border=\"1\" class=\"dataframe\">\n",
       "  <thead>\n",
       "    <tr style=\"text-align: right;\">\n",
       "      <th></th>\n",
       "      <th>pitcher_name</th>\n",
       "      <th>year</th>\n",
       "      <th>ERA</th>\n",
       "      <th>WAR</th>\n",
       "      <th>TBF</th>\n",
       "      <th>H</th>\n",
       "      <th>HR</th>\n",
       "      <th>BB</th>\n",
       "      <th>HBP</th>\n",
       "      <th>SO</th>\n",
       "      <th>WHIP</th>\n",
       "      <th>BABIP</th>\n",
       "      <th>FIP</th>\n",
       "      <th>LD%</th>\n",
       "      <th>GB%</th>\n",
       "      <th>FB%</th>\n",
       "      <th>IFFB%</th>\n",
       "      <th>SwStr%</th>\n",
       "      <th>Swing%</th>\n",
       "    </tr>\n",
       "  </thead>\n",
       "  <tbody>\n",
       "    <tr>\n",
       "      <th>0</th>\n",
       "      <td>버틀러</td>\n",
       "      <td>2017.0</td>\n",
       "      <td>3.95</td>\n",
       "      <td>0.6</td>\n",
       "      <td>237.0</td>\n",
       "      <td>50.0</td>\n",
       "      <td>4.0</td>\n",
       "      <td>28.0</td>\n",
       "      <td>2.0</td>\n",
       "      <td>30.0</td>\n",
       "      <td>1.43</td>\n",
       "      <td>0.266</td>\n",
       "      <td>4.66</td>\n",
       "      <td>0.224</td>\n",
       "      <td>0.443</td>\n",
       "      <td>0.661</td>\n",
       "      <td>0.138</td>\n",
       "      <td>0.072</td>\n",
       "      <td>0.465</td>\n",
       "    </tr>\n",
       "    <tr>\n",
       "      <th>1</th>\n",
       "      <td>터너</td>\n",
       "      <td>2014.0</td>\n",
       "      <td>6.13</td>\n",
       "      <td>0.5</td>\n",
       "      <td>501.0</td>\n",
       "      <td>148.0</td>\n",
       "      <td>12.0</td>\n",
       "      <td>33.0</td>\n",
       "      <td>1.0</td>\n",
       "      <td>71.0</td>\n",
       "      <td>1.60</td>\n",
       "      <td>0.354</td>\n",
       "      <td>4.16</td>\n",
       "      <td>0.208</td>\n",
       "      <td>0.491</td>\n",
       "      <td>0.636</td>\n",
       "      <td>0.052</td>\n",
       "      <td>0.080</td>\n",
       "      <td>0.461</td>\n",
       "    </tr>\n",
       "    <tr>\n",
       "      <th>2</th>\n",
       "      <td>터너</td>\n",
       "      <td>2013.0</td>\n",
       "      <td>3.74</td>\n",
       "      <td>0.3</td>\n",
       "      <td>514.0</td>\n",
       "      <td>116.0</td>\n",
       "      <td>11.0</td>\n",
       "      <td>54.0</td>\n",
       "      <td>4.0</td>\n",
       "      <td>77.0</td>\n",
       "      <td>1.44</td>\n",
       "      <td>0.285</td>\n",
       "      <td>4.43</td>\n",
       "      <td>0.195</td>\n",
       "      <td>0.457</td>\n",
       "      <td>0.675</td>\n",
       "      <td>0.047</td>\n",
       "      <td>0.083</td>\n",
       "      <td>0.454</td>\n",
       "    </tr>\n",
       "    <tr>\n",
       "      <th>3</th>\n",
       "      <td>맥과이어</td>\n",
       "      <td>2017.0</td>\n",
       "      <td>2.63</td>\n",
       "      <td>0.3</td>\n",
       "      <td>56.0</td>\n",
       "      <td>10.0</td>\n",
       "      <td>1.0</td>\n",
       "      <td>2.0</td>\n",
       "      <td>1.0</td>\n",
       "      <td>11.0</td>\n",
       "      <td>0.88</td>\n",
       "      <td>0.220</td>\n",
       "      <td>3.16</td>\n",
       "      <td>0.119</td>\n",
       "      <td>0.286</td>\n",
       "      <td>0.638</td>\n",
       "      <td>0.080</td>\n",
       "      <td>0.095</td>\n",
       "      <td>0.448</td>\n",
       "    </tr>\n",
       "    <tr>\n",
       "      <th>4</th>\n",
       "      <td>터너</td>\n",
       "      <td>2012.0</td>\n",
       "      <td>4.42</td>\n",
       "      <td>0.2</td>\n",
       "      <td>231.0</td>\n",
       "      <td>50.0</td>\n",
       "      <td>9.0</td>\n",
       "      <td>16.0</td>\n",
       "      <td>0.0</td>\n",
       "      <td>36.0</td>\n",
       "      <td>1.20</td>\n",
       "      <td>0.241</td>\n",
       "      <td>4.79</td>\n",
       "      <td>0.192</td>\n",
       "      <td>0.452</td>\n",
       "      <td>0.566</td>\n",
       "      <td>0.079</td>\n",
       "      <td>0.096</td>\n",
       "      <td>0.454</td>\n",
       "    </tr>\n",
       "  </tbody>\n",
       "</table>\n",
       "</div>"
      ],
      "text/plain": [
       "  pitcher_name    year   ERA  WAR    TBF      H    HR    BB  HBP    SO  WHIP  \\\n",
       "0          버틀러  2017.0  3.95  0.6  237.0   50.0   4.0  28.0  2.0  30.0  1.43   \n",
       "1           터너  2014.0  6.13  0.5  501.0  148.0  12.0  33.0  1.0  71.0  1.60   \n",
       "2           터너  2013.0  3.74  0.3  514.0  116.0  11.0  54.0  4.0  77.0  1.44   \n",
       "3         맥과이어  2017.0  2.63  0.3   56.0   10.0   1.0   2.0  1.0  11.0  0.88   \n",
       "4           터너  2012.0  4.42  0.2  231.0   50.0   9.0  16.0  0.0  36.0  1.20   \n",
       "\n",
       "   BABIP   FIP    LD%    GB%    FB%  IFFB%  SwStr%  Swing%  \n",
       "0  0.266  4.66  0.224  0.443  0.661  0.138   0.072   0.465  \n",
       "1  0.354  4.16  0.208  0.491  0.636  0.052   0.080   0.461  \n",
       "2  0.285  4.43  0.195  0.457  0.675  0.047   0.083   0.454  \n",
       "3  0.220  3.16  0.119  0.286  0.638  0.080   0.095   0.448  \n",
       "4  0.241  4.79  0.192  0.452  0.566  0.079   0.096   0.454  "
      ]
     },
     "execution_count": 107,
     "metadata": {},
     "output_type": "execute_result"
    }
   ],
   "source": [
    "nb_m.head()"
   ]
  },
  {
   "cell_type": "code",
   "execution_count": 108,
   "metadata": {},
   "outputs": [
    {
     "data": {
      "text/html": [
       "<div>\n",
       "<style scoped>\n",
       "    .dataframe tbody tr th:only-of-type {\n",
       "        vertical-align: middle;\n",
       "    }\n",
       "\n",
       "    .dataframe tbody tr th {\n",
       "        vertical-align: top;\n",
       "    }\n",
       "\n",
       "    .dataframe thead th {\n",
       "        text-align: right;\n",
       "    }\n",
       "</style>\n",
       "<table border=\"1\" class=\"dataframe\">\n",
       "  <thead>\n",
       "    <tr style=\"text-align: right;\">\n",
       "      <th></th>\n",
       "      <th>game_date</th>\n",
       "      <th>release_speed</th>\n",
       "      <th>batter</th>\n",
       "      <th>pitcher</th>\n",
       "      <th>events</th>\n",
       "      <th>description</th>\n",
       "      <th>zone</th>\n",
       "      <th>stand</th>\n",
       "      <th>p_throws</th>\n",
       "      <th>bb_type</th>\n",
       "      <th>...</th>\n",
       "      <th>plate_x</th>\n",
       "      <th>plate_z</th>\n",
       "      <th>ax</th>\n",
       "      <th>ay</th>\n",
       "      <th>az</th>\n",
       "      <th>launch_speed</th>\n",
       "      <th>launch_angle</th>\n",
       "      <th>release_spin_rate</th>\n",
       "      <th>pitch_name</th>\n",
       "      <th>pitcher_name</th>\n",
       "    </tr>\n",
       "  </thead>\n",
       "  <tbody>\n",
       "    <tr>\n",
       "      <th>0</th>\n",
       "      <td>2018-05-03</td>\n",
       "      <td>85.4</td>\n",
       "      <td>519058</td>\n",
       "      <td>518445</td>\n",
       "      <td>sac_fly</td>\n",
       "      <td>hit_into_play_score</td>\n",
       "      <td>13.0</td>\n",
       "      <td>L</td>\n",
       "      <td>L</td>\n",
       "      <td>fly_ball</td>\n",
       "      <td>...</td>\n",
       "      <td>-0.9200</td>\n",
       "      <td>2.0320</td>\n",
       "      <td>-6.1015</td>\n",
       "      <td>22.5146</td>\n",
       "      <td>-29.0091</td>\n",
       "      <td>90.4</td>\n",
       "      <td>26.0</td>\n",
       "      <td>2305.0</td>\n",
       "      <td>Cutter</td>\n",
       "      <td>채드벨</td>\n",
       "    </tr>\n",
       "    <tr>\n",
       "      <th>1</th>\n",
       "      <td>2018-05-03</td>\n",
       "      <td>91.7</td>\n",
       "      <td>519058</td>\n",
       "      <td>518445</td>\n",
       "      <td>NaN</td>\n",
       "      <td>foul</td>\n",
       "      <td>12.0</td>\n",
       "      <td>L</td>\n",
       "      <td>L</td>\n",
       "      <td>NaN</td>\n",
       "      <td>...</td>\n",
       "      <td>0.4845</td>\n",
       "      <td>3.5506</td>\n",
       "      <td>6.7067</td>\n",
       "      <td>29.5849</td>\n",
       "      <td>-15.5999</td>\n",
       "      <td>72.7</td>\n",
       "      <td>14.0</td>\n",
       "      <td>2265.0</td>\n",
       "      <td>4-Seam Fastball</td>\n",
       "      <td>채드벨</td>\n",
       "    </tr>\n",
       "    <tr>\n",
       "      <th>2</th>\n",
       "      <td>2018-05-03</td>\n",
       "      <td>86.1</td>\n",
       "      <td>519058</td>\n",
       "      <td>518445</td>\n",
       "      <td>NaN</td>\n",
       "      <td>foul</td>\n",
       "      <td>13.0</td>\n",
       "      <td>L</td>\n",
       "      <td>L</td>\n",
       "      <td>NaN</td>\n",
       "      <td>...</td>\n",
       "      <td>-1.4736</td>\n",
       "      <td>1.6516</td>\n",
       "      <td>-5.7169</td>\n",
       "      <td>25.0563</td>\n",
       "      <td>-27.4184</td>\n",
       "      <td>NaN</td>\n",
       "      <td>NaN</td>\n",
       "      <td>2379.0</td>\n",
       "      <td>Cutter</td>\n",
       "      <td>채드벨</td>\n",
       "    </tr>\n",
       "    <tr>\n",
       "      <th>3</th>\n",
       "      <td>2018-05-03</td>\n",
       "      <td>85.3</td>\n",
       "      <td>519058</td>\n",
       "      <td>518445</td>\n",
       "      <td>NaN</td>\n",
       "      <td>ball</td>\n",
       "      <td>11.0</td>\n",
       "      <td>L</td>\n",
       "      <td>L</td>\n",
       "      <td>NaN</td>\n",
       "      <td>...</td>\n",
       "      <td>-1.5007</td>\n",
       "      <td>2.5166</td>\n",
       "      <td>-2.7315</td>\n",
       "      <td>24.9668</td>\n",
       "      <td>-30.5457</td>\n",
       "      <td>NaN</td>\n",
       "      <td>NaN</td>\n",
       "      <td>2284.0</td>\n",
       "      <td>Cutter</td>\n",
       "      <td>채드벨</td>\n",
       "    </tr>\n",
       "    <tr>\n",
       "      <th>4</th>\n",
       "      <td>2018-05-03</td>\n",
       "      <td>83.3</td>\n",
       "      <td>519058</td>\n",
       "      <td>518445</td>\n",
       "      <td>NaN</td>\n",
       "      <td>swinging_strike</td>\n",
       "      <td>12.0</td>\n",
       "      <td>L</td>\n",
       "      <td>L</td>\n",
       "      <td>NaN</td>\n",
       "      <td>...</td>\n",
       "      <td>0.3519</td>\n",
       "      <td>3.5876</td>\n",
       "      <td>-3.3883</td>\n",
       "      <td>24.6765</td>\n",
       "      <td>-32.2025</td>\n",
       "      <td>NaN</td>\n",
       "      <td>NaN</td>\n",
       "      <td>2332.0</td>\n",
       "      <td>Slider</td>\n",
       "      <td>채드벨</td>\n",
       "    </tr>\n",
       "  </tbody>\n",
       "</table>\n",
       "<p>5 rows × 24 columns</p>\n",
       "</div>"
      ],
      "text/plain": [
       "    game_date  release_speed  batter  pitcher   events          description  \\\n",
       "0  2018-05-03           85.4  519058   518445  sac_fly  hit_into_play_score   \n",
       "1  2018-05-03           91.7  519058   518445      NaN                 foul   \n",
       "2  2018-05-03           86.1  519058   518445      NaN                 foul   \n",
       "3  2018-05-03           85.3  519058   518445      NaN                 ball   \n",
       "4  2018-05-03           83.3  519058   518445      NaN      swinging_strike   \n",
       "\n",
       "   zone stand p_throws   bb_type      ...       plate_x  plate_z      ax  \\\n",
       "0  13.0     L        L  fly_ball      ...       -0.9200   2.0320 -6.1015   \n",
       "1  12.0     L        L       NaN      ...        0.4845   3.5506  6.7067   \n",
       "2  13.0     L        L       NaN      ...       -1.4736   1.6516 -5.7169   \n",
       "3  11.0     L        L       NaN      ...       -1.5007   2.5166 -2.7315   \n",
       "4  12.0     L        L       NaN      ...        0.3519   3.5876 -3.3883   \n",
       "\n",
       "        ay       az  launch_speed  launch_angle  release_spin_rate  \\\n",
       "0  22.5146 -29.0091          90.4          26.0             2305.0   \n",
       "1  29.5849 -15.5999          72.7          14.0             2265.0   \n",
       "2  25.0563 -27.4184           NaN           NaN             2379.0   \n",
       "3  24.9668 -30.5457           NaN           NaN             2284.0   \n",
       "4  24.6765 -32.2025           NaN           NaN             2332.0   \n",
       "\n",
       "        pitch_name  pitcher_name  \n",
       "0           Cutter           채드벨  \n",
       "1  4-Seam Fastball           채드벨  \n",
       "2           Cutter           채드벨  \n",
       "3           Cutter           채드벨  \n",
       "4           Slider           채드벨  \n",
       "\n",
       "[5 rows x 24 columns]"
      ]
     },
     "execution_count": 108,
     "metadata": {},
     "output_type": "execute_result"
    }
   ],
   "source": [
    "nb_s.head()"
   ]
  },
  {
   "cell_type": "markdown",
   "metadata": {},
   "source": [
    "### KBO 장수 용병을 찾아보자."
   ]
  },
  {
   "cell_type": "code",
   "execution_count": 18,
   "metadata": {},
   "outputs": [
    {
     "data": {
      "text/html": [
       "<div>\n",
       "<style scoped>\n",
       "    .dataframe tbody tr th:only-of-type {\n",
       "        vertical-align: middle;\n",
       "    }\n",
       "\n",
       "    .dataframe tbody tr th {\n",
       "        vertical-align: top;\n",
       "    }\n",
       "\n",
       "    .dataframe thead th {\n",
       "        text-align: right;\n",
       "    }\n",
       "</style>\n",
       "<table border=\"1\" class=\"dataframe\">\n",
       "  <thead>\n",
       "    <tr style=\"text-align: right;\">\n",
       "      <th></th>\n",
       "      <th>pitcher_name</th>\n",
       "      <th>year</th>\n",
       "      <th>team</th>\n",
       "      <th>ERA</th>\n",
       "      <th>TBF</th>\n",
       "      <th>H</th>\n",
       "      <th>HR</th>\n",
       "      <th>BB</th>\n",
       "      <th>HBP</th>\n",
       "      <th>SO</th>\n",
       "      <th>year_born</th>\n",
       "    </tr>\n",
       "  </thead>\n",
       "  <tbody>\n",
       "    <tr>\n",
       "      <th>0</th>\n",
       "      <td>니퍼트</td>\n",
       "      <td>2011</td>\n",
       "      <td>두산</td>\n",
       "      <td>2.55</td>\n",
       "      <td>763</td>\n",
       "      <td>150</td>\n",
       "      <td>8</td>\n",
       "      <td>64</td>\n",
       "      <td>10</td>\n",
       "      <td>150</td>\n",
       "      <td>NaN</td>\n",
       "    </tr>\n",
       "    <tr>\n",
       "      <th>1</th>\n",
       "      <td>니퍼트</td>\n",
       "      <td>2012</td>\n",
       "      <td>두산</td>\n",
       "      <td>3.20</td>\n",
       "      <td>785</td>\n",
       "      <td>156</td>\n",
       "      <td>15</td>\n",
       "      <td>68</td>\n",
       "      <td>8</td>\n",
       "      <td>126</td>\n",
       "      <td>NaN</td>\n",
       "    </tr>\n",
       "    <tr>\n",
       "      <th>2</th>\n",
       "      <td>니퍼트</td>\n",
       "      <td>2013</td>\n",
       "      <td>두산</td>\n",
       "      <td>3.58</td>\n",
       "      <td>482</td>\n",
       "      <td>108</td>\n",
       "      <td>7</td>\n",
       "      <td>34</td>\n",
       "      <td>4</td>\n",
       "      <td>104</td>\n",
       "      <td>NaN</td>\n",
       "    </tr>\n",
       "    <tr>\n",
       "      <th>3</th>\n",
       "      <td>니퍼트</td>\n",
       "      <td>2014</td>\n",
       "      <td>두산</td>\n",
       "      <td>3.81</td>\n",
       "      <td>760</td>\n",
       "      <td>186</td>\n",
       "      <td>17</td>\n",
       "      <td>48</td>\n",
       "      <td>6</td>\n",
       "      <td>158</td>\n",
       "      <td>NaN</td>\n",
       "    </tr>\n",
       "    <tr>\n",
       "      <th>4</th>\n",
       "      <td>니퍼트</td>\n",
       "      <td>2015</td>\n",
       "      <td>두산</td>\n",
       "      <td>5.10</td>\n",
       "      <td>404</td>\n",
       "      <td>104</td>\n",
       "      <td>4</td>\n",
       "      <td>33</td>\n",
       "      <td>4</td>\n",
       "      <td>76</td>\n",
       "      <td>NaN</td>\n",
       "    </tr>\n",
       "  </tbody>\n",
       "</table>\n",
       "</div>"
      ],
      "text/plain": [
       "  pitcher_name  year team   ERA  TBF    H  HR  BB  HBP   SO year_born\n",
       "0          니퍼트  2011   두산  2.55  763  150   8  64   10  150       NaN\n",
       "1          니퍼트  2012   두산  3.20  785  156  15  68    8  126       NaN\n",
       "2          니퍼트  2013   두산  3.58  482  108   7  34    4  104       NaN\n",
       "3          니퍼트  2014   두산  3.81  760  186  17  48    6  158       NaN\n",
       "4          니퍼트  2015   두산  5.10  404  104   4  33    4   76       NaN"
      ]
     },
     "execution_count": 18,
     "metadata": {},
     "output_type": "execute_result"
    }
   ],
   "source": [
    "# KBO 장수 용병\n",
    "ob_k.head()"
   ]
  },
  {
   "cell_type": "code",
   "execution_count": 19,
   "metadata": {},
   "outputs": [
    {
     "data": {
      "text/plain": [
       "(105, 11)"
      ]
     },
     "execution_count": 19,
     "metadata": {},
     "output_type": "execute_result"
    }
   ],
   "source": [
    "ob_k.shape # 105 * 11"
   ]
  },
  {
   "cell_type": "code",
   "execution_count": 20,
   "metadata": {},
   "outputs": [
    {
     "data": {
      "text/plain": [
       "Index(['pitcher_name', 'year', 'team', 'ERA', 'TBF', 'H', 'HR', 'BB', 'HBP',\n",
       "       'SO', 'year_born'],\n",
       "      dtype='object')"
      ]
     },
     "execution_count": 20,
     "metadata": {},
     "output_type": "execute_result"
    }
   ],
   "source": [
    "ob_k.keys() # 지표확인"
   ]
  },
  {
   "cell_type": "markdown",
   "metadata": {},
   "source": [
    " \tColumn_name\tDescription\n",
    "1\tpitcher_name\t투수 이름\n",
    "2\tyear\t년도\n",
    "3\tteam\t소속팀\n",
    "4\tERA\t평균자책점\n",
    "5\tTBF\t상대한 타자수\n",
    "6\tH\t피안타수\n",
    "7\tHR\t피홈런수\n",
    "8\tBB\t피볼넷수\n",
    "9\tHBP\t피사구수\n",
    "10\tSO\t삼진수\n",
    "11\tyear_born\t생년월일\n"
   ]
  },
  {
   "cell_type": "code",
   "execution_count": 21,
   "metadata": {},
   "outputs": [
    {
     "data": {
      "text/plain": [
       "<pandas.core.groupby.groupby.DataFrameGroupBy object at 0x7f078f982c88>"
      ]
     },
     "execution_count": 21,
     "metadata": {},
     "output_type": "execute_result"
    }
   ],
   "source": [
    "ob_k.groupby(ob_k.pitcher_name)"
   ]
  },
  {
   "cell_type": "code",
   "execution_count": null,
   "metadata": {},
   "outputs": [],
   "source": [
    "ob_k.groupby(ob_k.pitcher_name).size() "
   ]
  },
  {
   "cell_type": "code",
   "execution_count": 44,
   "metadata": {},
   "outputs": [],
   "source": [
    "A = ob_k.groupby(ob_k.pitcher_name).size() >=4"
   ]
  },
  {
   "cell_type": "code",
   "execution_count": 57,
   "metadata": {},
   "outputs": [
    {
     "data": {
      "text/plain": [
       "(62,)"
      ]
     },
     "execution_count": 57,
     "metadata": {},
     "output_type": "execute_result"
    }
   ],
   "source": [
    "A.shape"
   ]
  },
  {
   "cell_type": "code",
   "execution_count": 45,
   "metadata": {},
   "outputs": [
    {
     "data": {
      "text/plain": [
       "pandas.core.series.Series"
      ]
     },
     "execution_count": 45,
     "metadata": {},
     "output_type": "execute_result"
    }
   ],
   "source": [
    "type(A)"
   ]
  },
  {
   "cell_type": "code",
   "execution_count": 46,
   "metadata": {},
   "outputs": [
    {
     "data": {
      "text/plain": [
       "62"
      ]
     },
     "execution_count": 46,
     "metadata": {},
     "output_type": "execute_result"
    }
   ],
   "source": [
    "A.size"
   ]
  },
  {
   "cell_type": "code",
   "execution_count": 54,
   "metadata": {},
   "outputs": [
    {
     "data": {
      "text/plain": [
       "array([ True, False, False, False, False, False,  True, False, False,\n",
       "       False,  True, False, False, False, False, False, False, False,\n",
       "       False, False, False, False, False, False, False,  True, False,\n",
       "       False, False, False, False, False, False, False, False, False,\n",
       "       False, False, False, False, False, False, False, False, False,\n",
       "       False, False, False, False, False, False, False, False, False,\n",
       "        True,  True, False, False, False, False, False, False])"
      ]
     },
     "execution_count": 54,
     "metadata": {},
     "output_type": "execute_result"
    }
   ],
   "source": [
    "A.values"
   ]
  },
  {
   "cell_type": "code",
   "execution_count": 62,
   "metadata": {},
   "outputs": [],
   "source": [
    "long_pitcher = A[A == True]"
   ]
  },
  {
   "cell_type": "code",
   "execution_count": 63,
   "metadata": {},
   "outputs": [
    {
     "data": {
      "text/plain": [
       "pitcher_name\n",
       "니퍼트     True\n",
       "레일리     True\n",
       "린드블럼    True\n",
       "소사      True\n",
       "피어밴드    True\n",
       "해커      True\n",
       "dtype: bool"
      ]
     },
     "execution_count": 63,
     "metadata": {},
     "output_type": "execute_result"
    }
   ],
   "source": [
    "long_pitcher # 4번이상 KBO에서 던진 투수"
   ]
  },
  {
   "cell_type": "markdown",
   "metadata": {},
   "source": [
    "## Principal Component Analysis 적용\n",
    "특징점을 줄이고자 principal component analysis 적용"
   ]
  },
  {
   "cell_type": "code",
   "execution_count": 67,
   "metadata": {},
   "outputs": [],
   "source": [
    "%matplotlib inline\n",
    "import numpy as np\n",
    "import matplotlib.pyplot as plt\n",
    "from scipy import stats\n",
    "\n",
    "# use seaborn plotting defaults\n",
    "import seaborn as sns; sns.set()"
   ]
  },
  {
   "cell_type": "code",
   "execution_count": 69,
   "metadata": {},
   "outputs": [
    {
     "data": {
      "text/plain": [
       "pandas.core.frame.DataFrame"
      ]
     },
     "execution_count": 69,
     "metadata": {},
     "output_type": "execute_result"
    }
   ],
   "source": [
    "type(ob_m)"
   ]
  },
  {
   "cell_type": "code",
   "execution_count": 70,
   "metadata": {},
   "outputs": [
    {
     "data": {
      "text/plain": [
       "Index(['pitcher_name', 'year', 'ERA', 'WAR', 'TBF', 'H', 'HR', 'BB', 'HBP',\n",
       "       'SO', 'WHIP', 'BABIP', 'FIP', 'LD%', 'GB%', 'FB%', 'IFFB%', 'SwStr%',\n",
       "       'Swing%'],\n",
       "      dtype='object')"
      ]
     },
     "execution_count": 70,
     "metadata": {},
     "output_type": "execute_result"
    }
   ],
   "source": [
    "ob_m.columns"
   ]
  },
  {
   "cell_type": "code",
   "execution_count": null,
   "metadata": {},
   "outputs": [],
   "source": [
    "ob_m"
   ]
  },
  {
   "cell_type": "code",
   "execution_count": 75,
   "metadata": {},
   "outputs": [],
   "source": [
    "# 투수명(pitcher_name)을 제외한 값만 가져오기 \n",
    "# 숫자만으로 지표를 만들고자 한다. \n",
    "\n",
    "ob_m_pure_index = ob_m[[ 'year', 'ERA', 'WAR', 'TBF', 'H', 'HR', 'BB', 'HBP',\n",
    "       'SO', 'WHIP', 'BABIP', 'FIP', 'LD%', 'GB%', 'FB%', 'IFFB%', 'SwStr%',\n",
    "       'Swing%']] "
   ]
  },
  {
   "cell_type": "code",
   "execution_count": 76,
   "metadata": {},
   "outputs": [
    {
     "data": {
      "text/plain": [
       "PCA(copy=True, iterated_power='auto', n_components=2, random_state=None,\n",
       "  svd_solver='auto', tol=0.0, whiten=False)"
      ]
     },
     "execution_count": 76,
     "metadata": {},
     "output_type": "execute_result"
    }
   ],
   "source": [
    "from sklearn.decomposition import PCA\n",
    "pca = PCA(n_components=2) # 2차원으로 줄여보자. \n",
    "pca.fit(ob_m_pure_index)"
   ]
  },
  {
   "cell_type": "code",
   "execution_count": 80,
   "metadata": {},
   "outputs": [
    {
     "name": "stdout",
     "output_type": "stream",
     "text": [
      "[[-2.72612877e-03 -4.09277866e-03  1.58896841e-03  9.57021601e-01\n",
      "   2.31320048e-01  2.73375027e-02  7.67365810e-02  6.47267953e-03\n",
      "   1.54563457e-01 -8.54370687e-04 -8.12210759e-05 -2.37474603e-03\n",
      "  -5.73905310e-05  5.41516331e-05  1.43254808e-05  3.01109078e-05\n",
      "  -8.07899604e-06 -1.14239032e-05]\n",
      " [ 1.04119385e-02 -6.17359463e-02  1.61020147e-02 -4.00748973e-02\n",
      "  -4.52872184e-01 -3.06527812e-03  8.04544003e-02  8.58268166e-03\n",
      "   8.83971388e-01 -1.09075365e-02 -1.08496003e-03 -3.22026819e-02\n",
      "  -2.78460244e-04 -6.93538839e-04 -8.66417947e-04  8.22743859e-04\n",
      "   1.09456721e-03  2.14690825e-04]]\n",
      "(2, 18)\n"
     ]
    }
   ],
   "source": [
    "# 생성된 PCA 계수값을 확인해 보자. \n",
    "# pca의 components\n",
    "print(pca.components_)\n",
    "print(pca.components_.shape)"
   ]
  },
  {
   "cell_type": "code",
   "execution_count": 78,
   "metadata": {},
   "outputs": [
    {
     "name": "stdout",
     "output_type": "stream",
     "text": [
      "[37771.01514994   137.52915981]\n"
     ]
    }
   ],
   "source": [
    "# pca의 explained variance\n",
    "print(pca.explained_variance_)"
   ]
  },
  {
   "cell_type": "markdown",
   "metadata": {},
   "source": [
    "### 그래프 \n",
    "\n",
    "components: 벡터방향\n",
    "explained variance: 벡터의 길이"
   ]
  },
  {
   "cell_type": "code",
   "execution_count": 85,
   "metadata": {},
   "outputs": [
    {
     "name": "stdout",
     "output_type": "stream",
     "text": [
      "37771.015149939434\n",
      "[-2.72612877e-03 -4.09277866e-03  1.58896841e-03  9.57021601e-01\n",
      "  2.31320048e-01  2.73375027e-02  7.67365810e-02  6.47267953e-03\n",
      "  1.54563457e-01 -8.54370687e-04 -8.12210759e-05 -2.37474603e-03\n",
      " -5.73905310e-05  5.41516331e-05  1.43254808e-05  3.01109078e-05\n",
      " -8.07899604e-06 -1.14239032e-05]\n",
      "137.52915980770337\n",
      "[ 1.04119385e-02 -6.17359463e-02  1.61020147e-02 -4.00748973e-02\n",
      " -4.52872184e-01 -3.06527812e-03  8.04544003e-02  8.58268166e-03\n",
      "  8.83971388e-01 -1.09075365e-02 -1.08496003e-03 -3.22026819e-02\n",
      " -2.78460244e-04 -6.93538839e-04 -8.66417947e-04  8.22743859e-04\n",
      "  1.09456721e-03  2.14690825e-04]\n"
     ]
    }
   ],
   "source": [
    "def draw_vector(v0, v1, ax=None):\n",
    "    ax = ax or plt.gca()\n",
    "    arrowprops=dict(arrowstyle='->',\n",
    "                    linewidth=2,\n",
    "                    shrinkA=0, shrinkB=0)\n",
    "    ax.annotate('', v1, v0, arrowprops=arrowprops)\n",
    "\n",
    "# plot data\n",
    "for length, vector in zip(pca.explained_variance_, pca.components_):\n",
    "    #v = vector * 3 * np.sqrt(length)\n",
    "    \n",
    "    #draw_vector(pca.mean_, pca.mean_ + v)\n",
    "    print(length)\n",
    "    print(vector)\n",
    "    \n",
    "    #print(v)\n",
    "    #print(v.shape)\n",
    "    #print(pca.mean_)\n",
    "#plt.axis('equal');"
   ]
  },
  {
   "cell_type": "code",
   "execution_count": 86,
   "metadata": {},
   "outputs": [],
   "source": [
    "X_pca = pca.transform(ob_m_pure_index) # 2차원으로 줄이기"
   ]
  },
  {
   "cell_type": "code",
   "execution_count": 87,
   "metadata": {},
   "outputs": [
    {
     "name": "stdout",
     "output_type": "stream",
     "text": [
      "original shape:    (205, 18)\n",
      "transformed shape: (205, 2)\n"
     ]
    }
   ],
   "source": [
    "# 2차원으로 줄인 모양 확인\n",
    "print(\"original shape:   \", ob_m_pure_index.shape)\n",
    "print(\"transformed shape:\", X_pca.shape)"
   ]
  },
  {
   "cell_type": "code",
   "execution_count": 89,
   "metadata": {},
   "outputs": [
    {
     "data": {
      "text/plain": [
       "<matplotlib.collections.PathCollection at 0x7f07615c54e0>"
      ]
     },
     "execution_count": 89,
     "metadata": {},
     "output_type": "execute_result"
    },
    {
     "data": {
      "image/png": "[encoded data removed]",
      "text/plain": [
       "<Figure size 432x288 with 1 Axes>"
      ]
     },
     "metadata": {},
     "output_type": "display_data"
    }
   ],
   "source": [
    "plt.scatter(X_pca[:, 0], X_pca[:,1], alpha=0.8)"
   ]
  },
  {
   "cell_type": "code",
   "execution_count": 90,
   "metadata": {},
   "outputs": [
    {
     "name": "stdout",
     "output_type": "stream",
     "text": [
      "(205, 18)\n",
      "(205, 2)\n"
     ]
    }
   ],
   "source": [
    "# fit and transform together\n",
    "\n",
    "pca = PCA(2)  # project from 64 to 2 dimensions\n",
    "projected = pca.fit_transform(ob_m_pure_index)\n",
    "print(ob_m_pure_index.shape)\n",
    "print(projected.shape)"
   ]
  },
  {
   "cell_type": "code",
   "execution_count": null,
   "metadata": {},
   "outputs": [],
   "source": []
  },
  {
   "cell_type": "code",
   "execution_count": 96,
   "metadata": {},
   "outputs": [],
   "source": [
    "c = np.hypot(projected[:, 0], projected[:,1])"
   ]
  },
  {
   "cell_type": "code",
   "execution_count": 98,
   "metadata": {},
   "outputs": [
    {
     "data": {
      "image/png": "[encoded data removed]",
      "text/plain": [
       "<Figure size 432x288 with 2 Axes>"
      ]
     },
     "metadata": {},
     "output_type": "display_data"
    }
   ],
   "source": [
    "plt.scatter(projected[:, 0], projected[:, 1],\n",
    "            c=c, edgecolor='none', alpha=0.5,\n",
    "            cmap=plt.cm.get_cmap('Spectral', 10)) # hygjob\n",
    "plt.xlabel('component 1')\n",
    "plt.ylabel('component 2')\n",
    "plt.colorbar();"
   ]
  },
  {
   "cell_type": "code",
   "execution_count": 99,
   "metadata": {},
   "outputs": [
    {
     "data": {
      "image/png": "[encoded data removed]",
      "text/plain": [
       "<Figure size 432x288 with 1 Axes>"
      ]
     },
     "metadata": {},
     "output_type": "display_data"
    }
   ],
   "source": [
    "plt.plot(np.cumsum(pca.explained_variance_ratio_))\n",
    "plt.xlabel('number of components')\n",
    "plt.ylabel('cumulative explained variance');"
   ]
  },
  {
   "cell_type": "code",
   "execution_count": 100,
   "metadata": {},
   "outputs": [
    {
     "data": {
      "image/png": "[encoded data removed]",
      "text/plain": [
       "<Figure size 432x288 with 1 Axes>"
      ]
     },
     "metadata": {},
     "output_type": "display_data"
    }
   ],
   "source": [
    "# pca component 2개만 하더라도 충분함.\n",
    "\n",
    "pca_o = PCA().fit(ob_m_pure_index)\n",
    "plt.plot(np.cumsum(pca_o.explained_variance_ratio_))\n",
    "plt.xlabel('number of components')\n",
    "plt.ylabel('cumulative explained variance');"
   ]
  },
  {
   "cell_type": "markdown",
   "metadata": {},
   "source": [
    "TODO\n",
    "오래남은 투수에 대해 데이터셋에 별도 표기를 하자. 즉 label을 붙여야 한다. \n",
    "근무한 회수로 해도 되고. 1, 0으로 장수용병 0은 금방종료한 용병으로 해도 되고.\n"
   ]
  }
 ],
 "metadata": {
  "kernelspec": {
   "display_name": "Python 3",
   "language": "python",
   "name": "python3"
  },
  "language_info": {
   "codemirror_mode": {
    "name": "ipython",
    "version": 3
   },
   "file_extension": ".py",
   "mimetype": "text/x-python",
   "name": "python",
   "nbconvert_exporter": "python",
   "pygments_lexer": "ipython3",
   "version": "3.6.2"
  }
 },
 "nbformat": 4,
 "nbformat_minor": 2
}
